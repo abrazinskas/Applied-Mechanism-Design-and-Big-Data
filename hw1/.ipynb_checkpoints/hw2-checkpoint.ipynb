{
 "cells": [
  {
   "cell_type": "markdown",
   "metadata": {},
   "source": [
    "# Example"
   ]
  },
  {
   "cell_type": "code",
   "execution_count": 4,
   "metadata": {
    "collapsed": true
   },
   "outputs": [],
   "source": [
    "import numpy as np"
   ]
  },
  {
   "cell_type": "markdown",
   "metadata": {},
   "source": [
    "## a) "
   ]
  },
  {
   "cell_type": "markdown",
   "metadata": {},
   "source": [
    "$1 - p \\; \\Delta t $"
   ]
  },
  {
   "cell_type": "markdown",
   "metadata": {},
   "source": [
    "## b)"
   ]
  },
  {
   "cell_type": "markdown",
   "metadata": {},
   "source": [
    "$P(n, t+ \\Delta t, t_0) = P(n,t,t_0)(1 - p \\Delta t) + P(n-1, t, t_0) p\\Delta t$"
   ]
  },
  {
   "cell_type": "markdown",
   "metadata": {},
   "source": [
    "## c) "
   ]
  },
  {
   "cell_type": "markdown",
   "metadata": {},
   "source": [
    "$P(n, t+ \\Delta t, t_0) - P(n,t,t_0) = P(n-1, t, t_0) p\\Delta t - P(n,t,t_0) p \\Delta t \\\\$\n",
    "\n",
    "$\\frac{P(n,t+\\Delta t, t_0) - P(n,t,t_0)}{\\Delta t} = P(n-1, t, t_0) p - P(n,t,t_0) p$\n",
    "\n",
    "now set $\\Delta t$-> 0, and you get: $\\frac{d P(n,t, t_0)}{d t} = P(n-1, t, t_0) p - P(n,t,t_0) p$"
   ]
  },
  {
   "cell_type": "markdown",
   "metadata": {},
   "source": [
    "## d) "
   ]
  },
  {
   "cell_type": "markdown",
   "metadata": {},
   "source": [
    "$P(0, t+ \\Delta t, t_0) = P(0,t,t_0)(1- p\\Delta t) = P(0, t, t_0) - P(0,t,t_0) p \\Delta t$\n",
    "\n",
    "$ \\frac{P(0, t+\\Delta t, t_0) - P(0,t,t_0)}{\\Delta t} = - P(0,t,t_0) p$\n",
    "\n",
    "Same trick with $\\Delta t$ as previously and get a partial:\n",
    "\n",
    "$ \\frac{d P(0, t, t_0)}{d t} = - P(0,t,t_0) p$"
   ]
  },
  {
   "cell_type": "markdown",
   "metadata": {},
   "source": [
    "## f) "
   ]
  },
  {
   "cell_type": "markdown",
   "metadata": {},
   "source": [
    "Since $n|t,t_0 \\sim Pois(p(t-t_0))$ , so $E[n] = p(t-t_0)$"
   ]
  },
  {
   "cell_type": "markdown",
   "metadata": {},
   "source": [
    "## h)"
   ]
  },
  {
   "cell_type": "code",
   "execution_count": null,
   "metadata": {
    "collapsed": true
   },
   "outputs": [],
   "source": [
    "t_0 = 0\n",
    "t_max = 60\n",
    "delta_t = 1\n",
    "counts = []\n",
    "p = 0.5\n",
    "N = 10000\n",
    "for i in range(N):\n",
    "    count = 0\n",
    "    for j in range(t_0, t_max,delta_t):\n",
    "        count += np.random.binomial(1, p)\n",
    "    counts.append(count)\n",
    "    \n"
   ]
  }
 ],
 "metadata": {
  "kernelspec": {
   "display_name": "Python 2",
   "language": "python",
   "name": "python2"
  },
  "language_info": {
   "codemirror_mode": {
    "name": "ipython",
    "version": 2
   },
   "file_extension": ".py",
   "mimetype": "text/x-python",
   "name": "python",
   "nbconvert_exporter": "python",
   "pygments_lexer": "ipython2",
   "version": "2.7.10"
  }
 },
 "nbformat": 4,
 "nbformat_minor": 0
}
